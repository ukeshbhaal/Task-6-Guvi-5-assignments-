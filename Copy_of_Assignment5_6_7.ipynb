{
  "cells": [
    {
      "cell_type": "markdown",
      "metadata": {
        "id": "view-in-github",
        "colab_type": "text"
      },
      "source": [
        "<a href=\"https://colab.research.google.com/github/ukeshbhaal/Task-6-Guvi-5-assignments-/blob/main/Copy_of_Assignment5_6_7.ipynb\" target=\"_parent\"><img src=\"https://colab.research.google.com/assets/colab-badge.svg\" alt=\"Open In Colab\"/></a>"
      ]
    },
    {
      "cell_type": "code",
      "execution_count": null,
      "metadata": {
        "id": "QBeW-xe3n2JV"
      },
      "outputs": [],
      "source": [
        "import pandas as pd\n",
        "import matplotlib.pyplot as plt\n",
        "import numpy as np\n",
        "from sklearn import linear_model\n",
        "import itertools as it"
      ]
    },
    {
      "cell_type": "markdown",
      "metadata": {
        "id": "_v712A5hn2JY"
      },
      "source": [
        "# Assignment5\n"
      ]
    },
    {
      "cell_type": "markdown",
      "metadata": {
        "id": "VSxzbknpn2Je"
      },
      "source": [
        "## Ground Cricket Chirps\n",
        "\n",
        "In _The Song of Insects_ (1948) by George W. Pierce, Pierce mechanically measured the frequency (the number of wing vibrations per second) of chirps (or pulses of sound) made by a striped ground cricket, at various ground temperatures.  Since crickets are ectotherms (cold-blooded), the rate of their physiological processes and their overall metabolism are influenced by temperature.  Consequently, there is reason to believe that temperature would have a profound effect on aspects of their behavior, such as chirp frequency.\n",
        "\n",
        "In general, it was found that crickets did not sing at temperatures colder than 60º F. or warmer than 100º F."
      ]
    },
    {
      "cell_type": "code",
      "execution_count": null,
      "metadata": {
        "id": "Oc2bUCvYn2Jg"
      },
      "outputs": [],
      "source": [
        "ground_cricket_data = {\"Chirps/Second\": [20.0, 16.0, 19.8, 18.4, 17.1, 15.5, 14.7,\n",
        "                                         15.7, 15.4, 16.3, 15.0, 17.2, 16.0, 17.0,\n",
        "                                         14.4],\n",
        "                       \"Ground Temperature\": [88.6, 71.6, 93.3, 84.3, 80.6, 75.2, 69.7,\n",
        "                                              71.6, 69.4, 83.3, 79.6, 82.6, 80.6, 83.5,\n",
        "                                              76.3]}\n",
        "df = pd.DataFrame(ground_cricket_data)"
      ]
    },
    {
      "cell_type": "markdown",
      "metadata": {
        "id": "lztiTnBwn2Jh"
      },
      "source": [
        "### Tasks\n",
        "\n",
        "1. Find the linear regression equation for this data.\n",
        "2. Chart the original data and the equation on the chart.\n",
        "3. Find the equation's $R^2$ score (use the `.score` method) to determine whether the\n",
        "equation is a good fit for this data. (0.8 and greater is considered a strong correlation.)\n",
        "4. Extrapolate data:  If the ground temperature reached 95, then at what approximate rate would you expect the crickets to be chirping?\n",
        "5. Interpolate data:  With a listening device, you discovered that on a particular morning the crickets were chirping at a rate of 18 chirps per second.  What was the approximate ground temperature that morning? "
      ]
    },
    {
      "cell_type": "code",
      "source": [],
      "metadata": {
        "id": "Doqj7c9M3Vsp"
      },
      "execution_count": null,
      "outputs": []
    },
    {
      "cell_type": "code",
      "source": [
        "#TASK 1\n",
        "df_gc = pd.DataFrame(ground_cricket_data)\n",
        "\n",
        "regr_gc = linear_model.LinearRegression()\n",
        "ground_temp = df_gc[['Ground Temperature']]\n",
        "chirps_sec = df_gc['Chirps/Second']\n",
        "regr_gc.fit(ground_temp, chirps_sec)"
      ],
      "metadata": {
        "colab": {
          "base_uri": "https://localhost:8080/"
        },
        "id": "XVzjWhJ23JaK",
        "outputId": "199a9be6-54f0-459c-b5a9-6916759d89b1"
      },
      "execution_count": null,
      "outputs": [
        {
          "output_type": "execute_result",
          "data": {
            "text/plain": [
              "LinearRegression()"
            ]
          },
          "metadata": {},
          "execution_count": 3
        }
      ]
    },
    {
      "cell_type": "code",
      "source": [
        "print('Linear Regression Equation: y = {:.4f} * x + {:.4f}'\n",
        "      .format(regr_gc.coef_[0], regr_gc.intercept_))"
      ],
      "metadata": {
        "colab": {
          "base_uri": "https://localhost:8080/"
        },
        "id": "zANlOgm-3dkk",
        "outputId": "65efc4de-08e2-4959-faf2-6054879b6075"
      },
      "execution_count": null,
      "outputs": [
        {
          "output_type": "stream",
          "name": "stdout",
          "text": [
            "Linear Regression Equation: y = 0.2030 * x + 0.4593\n"
          ]
        }
      ]
    },
    {
      "cell_type": "code",
      "source": [
        "#TASK2\n",
        "plt.scatter(ground_temp, chirps_sec, color='m')\n",
        "plt.plot(ground_temp, regr_gc.predict(ground_temp))\n",
        "plt.title('Ground Cricket Chirps/Sec by Ground Temperature')\n",
        "plt.xlabel('Ground Temp (˚F)')\n",
        "plt.ylabel('Chirps/Sec')\n",
        "plt.show()\n"
      ],
      "metadata": {
        "colab": {
          "base_uri": "https://localhost:8080/",
          "height": 296
        },
        "id": "Tx7SgX-v3hjz",
        "outputId": "c3c38515-75f7-4b06-b565-a402ec1cca20"
      },
      "execution_count": null,
      "outputs": [
        {
          "output_type": "display_data",
          "data": {
            "text/plain": [
              "<Figure size 432x288 with 1 Axes>"
            ],
            "image/png": "[encoded data removed]"
          },
          "metadata": {
            "needs_background": "light"
          }
        }
      ]
    },
    {
      "cell_type": "code",
      "source": [
        "#TASK3\n",
        "print('R^2 score for this equation: {:.4f}'\n",
        "      .format(regr_gc.score(ground_temp, chirps_sec)))\n",
        "#0.8 and greater is considered a strong correlation.\n",
        "#If less than 0.8 means it is not,So 0.69 is less than 0.8"
      ],
      "metadata": {
        "colab": {
          "base_uri": "https://localhost:8080/"
        },
        "id": "H3Upfn1d3k4h",
        "outputId": "6d87e775-8770-4e42-e290-327a4be57c6b"
      },
      "execution_count": null,
      "outputs": [
        {
          "output_type": "stream",
          "name": "stdout",
          "text": [
            "R^2 score for this equation: 0.6923\n"
          ]
        }
      ]
    },
    {
      "cell_type": "code",
      "source": [
        "#TASK4\n",
        "#Extrapolate data: If the ground temperature reached 95° F, then at what approximate rate would you expect the crickets to be chirping?\n",
        "\n",
        "\n",
        "def temp_to_chirps(ret):\n",
        "    y=regr_gc.coef_[0]*ret +regr_gc.intercept_ \n",
        "    print('At {}˚F Temp, Expected chrips is {:.4f} '.format( ret,y))\n",
        "temp_to_chirps(95)\n",
        "\n",
        "\"\"\"print('At 95˚F, our approximation of chirps/sec is: {:.4f}'\n",
        "      .format(regr_gc.predict(95)[0]))\"\"\""
      ],
      "metadata": {
        "colab": {
          "base_uri": "https://localhost:8080/",
          "height": 54
        },
        "id": "liOE-KIS3mdV",
        "outputId": "d0529a2c-914f-409c-c3c8-925fce859aa5"
      },
      "execution_count": null,
      "outputs": [
        {
          "output_type": "stream",
          "name": "stdout",
          "text": [
            "At 95˚F Temp, Expected chrips is 19.7443 \n"
          ]
        },
        {
          "output_type": "execute_result",
          "data": {
            "text/plain": [
              "\"print('At 95˚F, our approximation of chirps/sec is: {:.4f}'\\n      .format(regr_gc.predict(95)[0]))\""
            ],
            "application/vnd.google.colaboratory.intrinsic+json": {
              "type": "string"
            }
          },
          "metadata": {},
          "execution_count": 7
        }
      ]
    },
    {
      "cell_type": "code",
      "source": [
        "#TASK5\n",
        "def chirps_to_temp(y):\n",
        "    ret = (y - regr_gc.intercept_) / regr_gc.coef_[0]\n",
        "    print('With an observation of {} chirps/sec, '\n",
        "          'we expect a ground temp of {:.2f}˚F'.format(y, ret))\n",
        "chirps_to_temp(18)\n",
        "    "
      ],
      "metadata": {
        "colab": {
          "base_uri": "https://localhost:8080/"
        },
        "id": "5oKgnS_c3osW",
        "outputId": "f58ac8ec-e420-433b-a178-5431babf6d35"
      },
      "execution_count": null,
      "outputs": [
        {
          "output_type": "stream",
          "name": "stdout",
          "text": [
            "With an observation of 18 chirps/sec, we expect a ground temp of 86.41˚F\n"
          ]
        }
      ]
    },
    {
      "cell_type": "markdown",
      "metadata": {
        "id": "q7Ii4k-qn2Jj"
      },
      "source": [
        "# Assignment6"
      ]
    },
    {
      "cell_type": "markdown",
      "metadata": {
        "id": "z4X9w5ron2Jk"
      },
      "source": [
        "## Brain vs. Body Weight\n",
        "\n",
        "In the file `brain_body.txt`, the average brain and body weight for a number of mammal species are recorded. Load this data into a Pandas data frame.\n",
        "\n",
        "### Tasks\n",
        "\n",
        "1. Find the linear regression equation for this data for brain weight to body weight.\n",
        "2. Chart the original data and the equation on the chart.\n",
        "3. Find the equation's $R^2$ score (use the `.score` method) to determine whether the\n",
        "equation is a good fit for this data. (0.8 and greater is considered a strong correlation.)"
      ]
    },
    {
      "cell_type": "code",
      "execution_count": null,
      "metadata": {
        "id": "COAoq3vMn2Jm",
        "colab": {
          "base_uri": "https://localhost:8080/",
          "height": 423
        },
        "outputId": "bb37c286-94c5-46d1-ba00-0a13f35989cd"
      },
      "outputs": [
        {
          "output_type": "execute_result",
          "data": {
            "text/plain": [
              "      Brain   Body\n",
              "0     3.385   44.5\n",
              "1     0.480   15.5\n",
              "2     1.350    8.1\n",
              "3   465.000  423.0\n",
              "4    36.330  119.5\n",
              "..      ...    ...\n",
              "57  160.000  169.0\n",
              "58    0.900    2.6\n",
              "59    1.620   11.4\n",
              "60    0.104    2.5\n",
              "61    4.235   50.4\n",
              "\n",
              "[62 rows x 2 columns]"
            ],
            "text/html": [
              "\n",
              "  <div id=\"df-fdfeb873-69b1-4dfa-9543-b36e2689c85e\">\n",
              "    <div class=\"colab-df-container\">\n",
              "      <div>\n",
              "<style scoped>\n",
              "    .dataframe tbody tr th:only-of-type {\n",
              "        vertical-align: middle;\n",
              "    }\n",
              "\n",
              "    .dataframe tbody tr th {\n",
              "        vertical-align: top;\n",
              "    }\n",
              "\n",
              "    .dataframe thead th {\n",
              "        text-align: right;\n",
              "    }\n",
              "</style>\n",
              "<table border=\"1\" class=\"dataframe\">\n",
              "  <thead>\n",
              "    <tr style=\"text-align: right;\">\n",
              "      <th></th>\n",
              "      <th>Brain</th>\n",
              "      <th>Body</th>\n",
              "    </tr>\n",
              "  </thead>\n",
              "  <tbody>\n",
              "    <tr>\n",
              "      <th>0</th>\n",
              "      <td>3.385</td>\n",
              "      <td>44.5</td>\n",
              "    </tr>\n",
              "    <tr>\n",
              "      <th>1</th>\n",
              "      <td>0.480</td>\n",
              "      <td>15.5</td>\n",
              "    </tr>\n",
              "    <tr>\n",
              "      <th>2</th>\n",
              "      <td>1.350</td>\n",
              "      <td>8.1</td>\n",
              "    </tr>\n",
              "    <tr>\n",
              "      <th>3</th>\n",
              "      <td>465.000</td>\n",
              "      <td>423.0</td>\n",
              "    </tr>\n",
              "    <tr>\n",
              "      <th>4</th>\n",
              "      <td>36.330</td>\n",
              "      <td>119.5</td>\n",
              "    </tr>\n",
              "    <tr>\n",
              "      <th>...</th>\n",
              "      <td>...</td>\n",
              "      <td>...</td>\n",
              "    </tr>\n",
              "    <tr>\n",
              "      <th>57</th>\n",
              "      <td>160.000</td>\n",
              "      <td>169.0</td>\n",
              "    </tr>\n",
              "    <tr>\n",
              "      <th>58</th>\n",
              "      <td>0.900</td>\n",
              "      <td>2.6</td>\n",
              "    </tr>\n",
              "    <tr>\n",
              "      <th>59</th>\n",
              "      <td>1.620</td>\n",
              "      <td>11.4</td>\n",
              "    </tr>\n",
              "    <tr>\n",
              "      <th>60</th>\n",
              "      <td>0.104</td>\n",
              "      <td>2.5</td>\n",
              "    </tr>\n",
              "    <tr>\n",
              "      <th>61</th>\n",
              "      <td>4.235</td>\n",
              "      <td>50.4</td>\n",
              "    </tr>\n",
              "  </tbody>\n",
              "</table>\n",
              "<p>62 rows × 2 columns</p>\n",
              "</div>\n",
              "      <button class=\"colab-df-convert\" onclick=\"convertToInteractive('df-fdfeb873-69b1-4dfa-9543-b36e2689c85e')\"\n",
              "              title=\"Convert this dataframe to an interactive table.\"\n",
              "              style=\"display:none;\">\n",
              "        \n",
              "  <svg xmlns=\"http://www.w3.org/2000/svg\" height=\"24px\"viewBox=\"0 0 24 24\"\n",
              "       width=\"24px\">\n",
              "    <path d=\"M0 0h24v24H0V0z\" fill=\"none\"/>\n",
              "    <path d=\"M18.56 5.44l.94 2.06.94-2.06 2.06-.94-2.06-.94-.94-2.06-.94 2.06-2.06.94zm-11 1L8.5 8.5l.94-2.06 2.06-.94-2.06-.94L8.5 2.5l-.94 2.06-2.06.94zm10 10l.94 2.06.94-2.06 2.06-.94-2.06-.94-.94-2.06-.94 2.06-2.06.94z\"/><path d=\"M17.41 7.96l-1.37-1.37c-.4-.4-.92-.59-1.43-.59-.52 0-1.04.2-1.43.59L10.3 9.45l-7.72 7.72c-.78.78-.78 2.05 0 2.83L4 21.41c.39.39.9.59 1.41.59.51 0 1.02-.2 1.41-.59l7.78-7.78 2.81-2.81c.8-.78.8-2.07 0-2.86zM5.41 20L4 18.59l7.72-7.72 1.47 1.35L5.41 20z\"/>\n",
              "  </svg>\n",
              "      </button>\n",
              "      \n",
              "  <style>\n",
              "    .colab-df-container {\n",
              "      display:flex;\n",
              "      flex-wrap:wrap;\n",
              "      gap: 12px;\n",
              "    }\n",
              "\n",
              "    .colab-df-convert {\n",
              "      background-color: #E8F0FE;\n",
              "      border: none;\n",
              "      border-radius: 50%;\n",
              "      cursor: pointer;\n",
              "      display: none;\n",
              "      fill: #1967D2;\n",
              "      height: 32px;\n",
              "      padding: 0 0 0 0;\n",
              "      width: 32px;\n",
              "    }\n",
              "\n",
              "    .colab-df-convert:hover {\n",
              "      background-color: #E2EBFA;\n",
              "      box-shadow: 0px 1px 2px rgba(60, 64, 67, 0.3), 0px 1px 3px 1px rgba(60, 64, 67, 0.15);\n",
              "      fill: #174EA6;\n",
              "    }\n",
              "\n",
              "    [theme=dark] .colab-df-convert {\n",
              "      background-color: #3B4455;\n",
              "      fill: #D2E3FC;\n",
              "    }\n",
              "\n",
              "    [theme=dark] .colab-df-convert:hover {\n",
              "      background-color: #434B5C;\n",
              "      box-shadow: 0px 1px 3px 1px rgba(0, 0, 0, 0.15);\n",
              "      filter: drop-shadow(0px 1px 2px rgba(0, 0, 0, 0.3));\n",
              "      fill: #FFFFFF;\n",
              "    }\n",
              "  </style>\n",
              "\n",
              "      <script>\n",
              "        const buttonEl =\n",
              "          document.querySelector('#df-fdfeb873-69b1-4dfa-9543-b36e2689c85e button.colab-df-convert');\n",
              "        buttonEl.style.display =\n",
              "          google.colab.kernel.accessAllowed ? 'block' : 'none';\n",
              "\n",
              "        async function convertToInteractive(key) {\n",
              "          const element = document.querySelector('#df-fdfeb873-69b1-4dfa-9543-b36e2689c85e');\n",
              "          const dataTable =\n",
              "            await google.colab.kernel.invokeFunction('convertToInteractive',\n",
              "                                                     [key], {});\n",
              "          if (!dataTable) return;\n",
              "\n",
              "          const docLinkHtml = 'Like what you see? Visit the ' +\n",
              "            '<a target=\"_blank\" href=https://colab.research.google.com/notebooks/data_table.ipynb>data table notebook</a>'\n",
              "            + ' to learn more about interactive tables.';\n",
              "          element.innerHTML = '';\n",
              "          dataTable['output_type'] = 'display_data';\n",
              "          await google.colab.output.renderOutput(dataTable, element);\n",
              "          const docLink = document.createElement('div');\n",
              "          docLink.innerHTML = docLinkHtml;\n",
              "          element.appendChild(docLink);\n",
              "        }\n",
              "      </script>\n",
              "    </div>\n",
              "  </div>\n",
              "  "
            ]
          },
          "metadata": {},
          "execution_count": 9
        }
      ],
      "source": [
        "df = pd.read_fwf(\"/content/brain_body.txt\")\n",
        "df"
      ]
    },
    {
      "cell_type": "code",
      "source": [
        "#Task 1\n",
        "df1 = pd.DataFrame(df)\n",
        "\"\"\"\n",
        "df_bb = pd.DataFrame(df)\n",
        "regr_bb = linear_model.LinearRegression()\n",
        "body = df_bb[['Body']]\n",
        "brain = df_bb['Brain']\n",
        "regr_bb.fit(body, brain)\n",
        "print('Linear Regression Equation: y = {:.4f} * x + {:.4f}'\n",
        "      .format(regr_bb.coef_[0], regr_bb.intercept_))\"\"\"\n",
        "\n",
        "\n",
        "r = linear_model.LinearRegression()\n",
        "brain = df1[['Brain']]\n",
        "body = df1['Body']\n",
        "r.fit(brain,body)\n",
        "print('Linear Regression Equation: y = {:.4f} * x + {:.4f}'\n",
        "      .format(r.coef_[0], r.intercept_))"
      ],
      "metadata": {
        "colab": {
          "base_uri": "https://localhost:8080/"
        },
        "id": "uPRajCaN-C5I",
        "outputId": "0c4f14bd-070d-4c76-b595-e764f1272414"
      },
      "execution_count": null,
      "outputs": [
        {
          "output_type": "stream",
          "name": "stdout",
          "text": [
            "Linear Regression Equation: y = 0.9665 * x + 91.0044\n"
          ]
        }
      ]
    },
    {
      "cell_type": "code",
      "source": [
        "#Task 2\n",
        "plt.scatter(brain, body, color='m')\n",
        "plt.plot(brain, regr_gc.predict(brain))\n",
        "plt.title('Brain VS body')\n",
        "plt.xlabel('Brain')\n",
        "plt.ylabel('Boby')\n",
        "plt.show()"
      ],
      "metadata": {
        "colab": {
          "base_uri": "https://localhost:8080/",
          "height": 443
        },
        "id": "QdJs8Mx8-Gko",
        "outputId": "e0431d96-294b-48d3-9a00-27547c2cb094"
      },
      "execution_count": null,
      "outputs": [
        {
          "output_type": "stream",
          "name": "stderr",
          "text": [
            "/usr/local/lib/python3.8/dist-packages/sklearn/base.py:493: FutureWarning: The feature names should match those that were passed during fit. Starting version 1.2, an error will be raised.\n",
            "Feature names unseen at fit time:\n",
            "- Brain\n",
            "Feature names seen at fit time, yet now missing:\n",
            "- Ground Temperature\n",
            "\n",
            "  warnings.warn(message, FutureWarning)\n"
          ]
        },
        {
          "output_type": "display_data",
          "data": {
            "text/plain": [
              "<Figure size 432x288 with 1 Axes>"
            ],
            "image/png": "[encoded data removed]"
          },
          "metadata": {
            "needs_background": "light"
          }
        }
      ]
    },
    {
      "cell_type": "code",
      "source": [
        "#Task 3\n",
        "print('R^2 score for this equation: {:.4f}'\n",
        "      .format(regr_gc.score(brain, body)))\n",
        "#0.8 and greater is considered a strong correlation.\n"
      ],
      "metadata": {
        "colab": {
          "base_uri": "https://localhost:8080/"
        },
        "id": "Ow_BPQOE-HgB",
        "outputId": "9bffc6de-8224-4263-b8fd-ea827911844a"
      },
      "execution_count": null,
      "outputs": [
        {
          "output_type": "stream",
          "name": "stdout",
          "text": [
            "R^2 score for this equation: 0.2591\n"
          ]
        },
        {
          "output_type": "stream",
          "name": "stderr",
          "text": [
            "/usr/local/lib/python3.8/dist-packages/sklearn/base.py:493: FutureWarning: The feature names should match those that were passed during fit. Starting version 1.2, an error will be raised.\n",
            "Feature names unseen at fit time:\n",
            "- Brain\n",
            "Feature names seen at fit time, yet now missing:\n",
            "- Ground Temperature\n",
            "\n",
            "  warnings.warn(message, FutureWarning)\n"
          ]
        }
      ]
    },
    {
      "cell_type": "markdown",
      "metadata": {
        "id": "y2tfenykn2Jn"
      },
      "source": [
        "# Assignment7"
      ]
    },
    {
      "cell_type": "markdown",
      "metadata": {
        "id": "dD0Av8ZZn2Jo"
      },
      "source": [
        "## Salary Discrimination\n",
        "\n",
        "The file `salary.txt` contains data for 52 tenure-track professors at a small Midwestern college. This data was used in legal proceedings in the 1980s about discrimination against women in salary.\n",
        "\n",
        "The data in the file, by column:\n",
        "\n",
        "1. Sex. 1 for female, 0 for male.\n",
        "2. Rank. 1 for assistant professor, 2 for associate professor, 3 for full professor.\n",
        "3. Year. Number of years in current rank.\n",
        "4. Degree. Highest degree. 1 for doctorate, 0 for master's.\n",
        "5. YSdeg. Years since highest degree was earned.\n",
        "6. Salary. Salary/year in dollars.\n",
        "\n",
        "### Tasks\n",
        "\n",
        "1. Find the linear regression equation for this data using columns 1-5 to column 6.\n",
        "2. Find the selection of columns with the best $R^2$ score.\n",
        "3. Report whether sex is a factor in salary."
      ]
    },
    {
      "cell_type": "code",
      "execution_count": null,
      "metadata": {
        "id": "vp89PjiMn2Jr",
        "colab": {
          "base_uri": "https://localhost:8080/"
        },
        "outputId": "8bfae747-88d8-4a5e-af7e-9ac2fa25de44"
      },
      "outputs": [
        {
          "output_type": "stream",
          "name": "stdout",
          "text": [
            "    Sex  Rank  Year  Degree  YSdeg  Salary\n",
            "0     0     3    25       1     35   36350\n",
            "1     0     3    13       1     22   35350\n",
            "2     0     3    10       1     23   28200\n",
            "3     1     3     7       1     27   26775\n",
            "4     0     3    19       0     30   33696\n",
            "5     0     3    16       1     21   28516\n",
            "6     1     3     0       0     32   24900\n",
            "7     0     3    16       1     18   31909\n",
            "8     0     3    13       0     30   31850\n",
            "9     0     3    13       0     31   32850\n",
            "10    0     3    12       1     22   27025\n",
            "11    0     2    15       1     19   24750\n",
            "12    0     3     9       1     17   28200\n",
            "13    0     2     9       0     27   23712\n",
            "14    0     3     9       1     24   25748\n",
            "15    0     3     7       1     15   29342\n",
            "16    0     3    13       1     20   31114\n",
            "17    0     2    11       0     14   24742\n",
            "18    0     2    10       0     15   22906\n",
            "19    0     3     6       0     21   24450\n",
            "20    0     1    16       0     23   19175\n",
            "21    0     2     8       0     31   20525\n",
            "22    0     3     7       1     13   27959\n",
            "23    1     3     8       1     24   38045\n",
            "24    0     2     9       1     12   24832\n",
            "25    0     3     5       1     18   25400\n",
            "26    0     2    11       1     14   24800\n",
            "27    1     3     5       1     16   25500\n",
            "28    0     2     3       0      7   26182\n",
            "29    0     2     3       0     17   23725\n",
            "30    1     1    10       0     15   21600\n",
            "31    0     2    11       0     31   23300\n",
            "32    0     1     9       0     14   23713\n",
            "33    1     2     4       0     33   20690\n",
            "34    1     2     6       0     29   22450\n",
            "35    0     2     1       1      9   20850\n",
            "36    1     1     8       1     14   18304\n",
            "37    0     1     4       1      4   17095\n",
            "38    0     1     4       1      5   16700\n",
            "39    0     1     4       1      4   17600\n",
            "40    0     1     3       1      4   18075\n",
            "41    0     1     3       0     11   18000\n",
            "42    0     2     0       1      7   20999\n",
            "43    1     1     3       1      3   17250\n",
            "44    0     1     2       1      3   16500\n",
            "45    0     1     2       1      1   16094\n",
            "46    1     1     2       1      6   16150\n",
            "47    1     1     2       1      2   15350\n",
            "48    0     1     1       1      1   16244\n",
            "49    1     1     1       1      1   16686\n",
            "50    1     1     1       1      1   15000\n",
            "51    1     1     0       1      2   20300\n"
          ]
        }
      ],
      "source": [
        "#task 1\n",
        "\n",
        "dfs = pd.read_fwf(\"/content/salary.txt\", header=None, \n",
        "                 names=[\"Sex\", \"Rank\", \"Year\", \"Degree\", \"YSdeg\", \"Salary\"])\n",
        "print(dfs)\n",
        "s = ['Sex', 'Rank', 'Year', 'Degree', 'YSdeg']\n"
      ]
    },
    {
      "cell_type": "code",
      "source": [
        "df11=pd.DataFrame(dfs)\n",
        "re = linear_model.LinearRegression()\n",
        "\n",
        "def l(s,dfs):\n",
        "  s1=dfs[s]\n",
        "  sa=dfs['Salary']\n",
        "  re.fit(s1,sa)\n",
        "  print('The equation for columns {} with respect to Salary:\\n'\n",
        "          '{} + {}'.format(s, re.coef_, re.intercept_))\n",
        "l(s,dfs)\n",
        "\n",
        "\n",
        "\"\"\"s1=df[s]\n",
        "sa=df11['Salary']\n",
        "re.fit(s1,sa)\n",
        "print('The equation for columns {} with respect to Salary:\\n'\n",
        "          '{} + {}'.format(s, re.coef_[0], re.intercept_))\"\"\"\n",
        "\n",
        "\n"
      ],
      "metadata": {
        "id": "FgWen77nGpk9",
        "colab": {
          "base_uri": "https://localhost:8080/",
          "height": 109
        },
        "outputId": "bf689d9c-bea8-4843-9caf-8be634eb7844"
      },
      "execution_count": null,
      "outputs": [
        {
          "output_type": "stream",
          "name": "stdout",
          "text": [
            "The equation for columns ['Sex', 'Rank', 'Year', 'Degree', 'YSdeg'] with respect to Salary:\n",
            "[ 1241.7924996   5586.18144952   482.85976783 -1331.64406341\n",
            "  -128.79057354] + 11410.14654725559\n"
          ]
        },
        {
          "output_type": "execute_result",
          "data": {
            "text/plain": [
              "\"s1=df[s]\\nsa=df11['Salary']\\nre.fit(s1,sa)\\nprint('The equation for columns {} with respect to Salary:\\n'\\n          '{} + {}'.format(s, re.coef_[0], re.intercept_))\""
            ],
            "application/vnd.google.colaboratory.intrinsic+json": {
              "type": "string"
            }
          },
          "metadata": {},
          "execution_count": 14
        }
      ]
    },
    {
      "cell_type": "code",
      "source": [
        "#task 2\n",
        "\n",
        "def t(s, df, focus='Salary'):\n",
        "    input = df[s]\n",
        "    output = df[focus]\n",
        "    re = linear_model.LinearRegression()\n",
        "    re.fit(input, output)\n",
        "    return re.score(input, output)\n",
        "\n",
        "print('R^2 score for equation using all columns: {}'\n",
        "      .format(t(s, dfs)))"
      ],
      "metadata": {
        "colab": {
          "base_uri": "https://localhost:8080/"
        },
        "id": "X3QZwfopL36Y",
        "outputId": "5f6da6a2-1778-4bc3-af6c-957539d83865"
      },
      "execution_count": null,
      "outputs": [
        {
          "output_type": "stream",
          "name": "stdout",
          "text": [
            "R^2 score for equation using all columns: 0.8547180674410969\n"
          ]
        }
      ]
    },
    {
      "cell_type": "code",
      "source": [
        "#task -3 \n",
        "num_by_sex = dfs.Sex.value_counts()\n",
        "print('Num men: {}\\nNum women: {}'.format(num_by_sex[0], num_by_sex[1]))"
      ],
      "metadata": {
        "id": "mMOjLr-mIr6J",
        "colab": {
          "base_uri": "https://localhost:8080/"
        },
        "outputId": "f326e300-13c4-4393-97f8-6880912e4807"
      },
      "execution_count": null,
      "outputs": [
        {
          "output_type": "stream",
          "name": "stdout",
          "text": [
            "Num men: 38\n",
            "Num women: 14\n"
          ]
        }
      ]
    },
    {
      "cell_type": "code",
      "source": [
        "def get_combos(cols):\n",
        "    return [it.combinations(cols, n + 1) for n in range(len(cols))]\n",
        "combos = get_combos(s)\n",
        "def all_combo_scores(combos, df, focus='Salary'):\n",
        "    combo_scores = {}\n",
        "    for m in range(len(list(combos))):\n",
        "        for n in list(combos[m]):\n",
        "            combo_scores[t(list(n), df, focus)] = n\n",
        "    return combo_scores\n",
        "combo_scores = all_combo_scores(combos, dfs)\n",
        "sorted(combo_scores.items(), key=lambda c: c[0], reverse=True)"
      ],
      "metadata": {
        "colab": {
          "base_uri": "https://localhost:8080/"
        },
        "id": "Oqj0UM5OhjxZ",
        "outputId": "06bfa874-d80d-431f-febd-d45105a82fe1"
      },
      "execution_count": null,
      "outputs": [
        {
          "output_type": "execute_result",
          "data": {
            "text/plain": [
              "[(0.8547180674410969, ('Sex', 'Rank', 'Year', 'Degree', 'YSdeg')),\n",
              " (0.8490366192262851, ('Sex', 'Rank', 'Year', 'YSdeg')),\n",
              " (0.8485077204335426, ('Rank', 'Year', 'Degree', 'YSdeg')),\n",
              " (0.8456725764485596, ('Rank', 'Year', 'YSdeg')),\n",
              " (0.845547641297936, ('Sex', 'Rank', 'Year', 'Degree')),\n",
              " (0.8454319861987166, ('Sex', 'Rank', 'Year')),\n",
              " (0.8437395200874137, ('Rank', 'Year', 'Degree')),\n",
              " (0.8436480933264597, ('Rank', 'Year')),\n",
              " (0.7671813414350668, ('Sex', 'Rank', 'Degree', 'YSdeg')),\n",
              " (0.7666122610227071, ('Sex', 'Rank', 'YSdeg')),\n",
              " (0.7625149185326454, ('Rank', 'Degree', 'YSdeg')),\n",
              " (0.7623948189698249, ('Rank', 'YSdeg')),\n",
              " (0.7583144768153613, ('Sex', 'Rank', 'Degree')),\n",
              " (0.7557961688386643, ('Rank', 'Degree')),\n",
              " (0.7554917749443394, ('Sex', 'Rank')),\n",
              " (0.7525360539274633, ('Rank',)),\n",
              " (0.6311597502907436, ('Sex', 'Year', 'Degree', 'YSdeg')),\n",
              " (0.6236261611533503, ('Year', 'Degree', 'YSdeg')),\n",
              " (0.5832708257660315, ('Sex', 'Degree', 'YSdeg')),\n",
              " (0.5808063918180405, ('Sex', 'Year', 'YSdeg')),\n",
              " (0.5782019226431887, ('Year', 'YSdeg')),\n",
              " (0.5409662288237875, ('Degree', 'YSdeg')),\n",
              " (0.4930479271966782, ('Sex', 'YSdeg')),\n",
              " (0.49207944757472966, ('Sex', 'Year', 'Degree')),\n",
              " (0.4919014149016441, ('Year', 'Degree')),\n",
              " (0.4911360941886388, ('Sex', 'Year')),\n",
              " (0.49093702676921624, ('Year',)),\n",
              " (0.45542813458360276, ('YSdeg',)),\n",
              " (0.06643739842018881, ('Sex', 'Degree')),\n",
              " (0.06389892583288004, ('Sex',)),\n",
              " (0.004861680984748373, ('Degree',))]"
            ]
          },
          "metadata": {},
          "execution_count": 17
        }
      ]
    },
    {
      "cell_type": "markdown",
      "source": [
        " 0.06389892583288004 - Sex - R square value"
      ],
      "metadata": {
        "id": "nSvJtvQ2P4fh"
      }
    },
    {
      "cell_type": "code",
      "source": [
        "dfs.pivot_table(index=dfs.index, columns='Sex', values='Salary') \\\n",
        "    .plot(kind='hist', alpha=0.7, stacked=True, bins=20, title='Salary by Sex')\n",
        "plt.xlabel('Dollars')\n",
        "plt.ylabel('Faculty')\n",
        "plt.show()"
      ],
      "metadata": {
        "colab": {
          "base_uri": "https://localhost:8080/",
          "height": 295
        },
        "id": "4I3poiZrN_1p",
        "outputId": "589d287a-448d-43a9-db73-2927c150ae3d"
      },
      "execution_count": null,
      "outputs": [
        {
          "output_type": "display_data",
          "data": {
            "text/plain": [
              "<Figure size 432x288 with 1 Axes>"
            ],
            "image/png": "[encoded data removed]"
          },
          "metadata": {
            "needs_background": "light"
          }
        }
      ]
    },
    {
      "cell_type": "code",
      "source": [
        "#The women at this university have only been at their present rank for at most 10 years; \n",
        "#let's compare with the men who have a similar number of years.\n",
        "\n",
        "#Comparing Men and Women with Similar Number of Years\n",
        "dfs10 = dfs[dfs['Year'] <= 10]\n",
        "combos_10 = get_combos(s)\n",
        "combo_10_scores = all_combo_scores(combos_10, dfs10)\n",
        "sorted(combo_10_scores.items(), key=lambda c: c[0], reverse=True)"
      ],
      "metadata": {
        "colab": {
          "base_uri": "https://localhost:8080/"
        },
        "id": "4aPPh1MvO_EW",
        "outputId": "a41587a1-2d55-4511-cc3a-3685779c41cf"
      },
      "execution_count": null,
      "outputs": [
        {
          "output_type": "execute_result",
          "data": {
            "text/plain": [
              "[(0.7968248819660304, ('Sex', 'Rank', 'Year', 'Degree', 'YSdeg')),\n",
              " (0.7872092866034841, ('Sex', 'Rank', 'Year', 'YSdeg')),\n",
              " (0.7857914167129874, ('Rank', 'Year', 'Degree', 'YSdeg')),\n",
              " (0.7812953737007232, ('Rank', 'Year', 'YSdeg')),\n",
              " (0.7811304025138202, ('Sex', 'Rank', 'Year', 'Degree')),\n",
              " (0.7809344717080977, ('Sex', 'Rank', 'Year')),\n",
              " (0.7783076155381674, ('Rank', 'Year', 'Degree')),\n",
              " (0.778125545829645, ('Rank', 'Year')),\n",
              " (0.7267866959953191, ('Sex', 'Rank', 'Degree', 'YSdeg')),\n",
              " (0.7266289950954575, ('Sex', 'Rank', 'Degree')),\n",
              " (0.7263171650507368, ('Rank', 'Degree', 'YSdeg')),\n",
              " (0.7262952984826756, ('Rank', 'Degree')),\n",
              " (0.7237917566538923, ('Sex', 'Rank', 'YSdeg')),\n",
              " (0.7237599305119999, ('Rank', 'YSdeg')),\n",
              " (0.7224004990910746, ('Sex', 'Rank')),\n",
              " (0.7221603677648399, ('Rank',)),\n",
              " (0.5211388967522836, ('Sex', 'Year', 'Degree', 'YSdeg')),\n",
              " (0.5106317178170396, ('Year', 'Degree', 'YSdeg')),\n",
              " (0.47582422204482044, ('Sex', 'Degree', 'YSdeg')),\n",
              " (0.46515893607776626, ('Sex', 'Year', 'YSdeg')),\n",
              " (0.46069130390981783, ('Year', 'YSdeg')),\n",
              " (0.4448739733320236, ('Degree', 'YSdeg')),\n",
              " (0.4042796870122093, ('Sex', 'YSdeg')),\n",
              " (0.38329194186217797, ('YSdeg',)),\n",
              " (0.3261084635012448, ('Sex', 'Year', 'Degree')),\n",
              " (0.325988256704955, ('Sex', 'Year')),\n",
              " (0.32547258856854433, ('Year', 'Degree')),\n",
              " (0.32534791979498534, ('Year',)),\n",
              " (0.019252695844517165, ('Sex', 'Degree')),\n",
              " (0.01327225187005543, ('Degree',)),\n",
              " (0.006877700561349731, ('Sex',))]"
            ]
          },
          "metadata": {},
          "execution_count": 19
        }
      ]
    },
    {
      "cell_type": "markdown",
      "source": [
        "Again, we see that Sex has no direct influence on Salary: score of 0.0068777005613497311."
      ],
      "metadata": {
        "id": "9ntlC3b5Pqla"
      }
    }
  ],
  "metadata": {
    "kernelspec": {
      "display_name": "Python 3",
      "language": "python",
      "name": "python3"
    },
    "language_info": {
      "codemirror_mode": {
        "name": "ipython",
        "version": 3
      },
      "file_extension": ".py",
      "mimetype": "text/x-python",
      "name": "python",
      "nbconvert_exporter": "python",
      "pygments_lexer": "ipython3",
      "version": "3.8.3"
    },
    "colab": {
      "provenance": [],
      "include_colab_link": true
    }
  },
  "nbformat": 4,
  "nbformat_minor": 0
}